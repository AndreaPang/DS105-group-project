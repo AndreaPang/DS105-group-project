{
 "cells": [
  {
   "cell_type": "code",
   "execution_count": 1,
   "metadata": {},
   "outputs": [],
   "source": [
    "#Tweepy is a python library to access Twitter API.\n",
    "import tweepy\n",
    "import csv\n",
    "import pandas as pd\n",
    "import langid"
   ]
  },
  {
   "cell_type": "code",
   "execution_count": 2,
   "metadata": {},
   "outputs": [],
   "source": [
    "#Provide your own credentials here.\n",
    "consumer_key = 'jJIaor2ZVNNsaZYhUiIBwsnAu'\n",
    "consumer_secret = 'tgJ3FXibH3VVjFEBP0z0NrWnSwcpFjcJG8wrsmdTAeYSU9Qvzu'\n",
    "access_token = '1457459607757107201-fryKvcQoXbTQiaiwRujNxiiQj7682H'\n",
    "access_token_secret = 'yLZU0tLr0Y0nYt6FcIDGu7ywBOw5rjGdBJq29HctqLify'"
   ]
  },
  {
   "cell_type": "code",
   "execution_count": 3,
   "metadata": {},
   "outputs": [],
   "source": [
    "auth = tweepy.OAuthHandler(consumer_key, consumer_secret)\n",
    "auth.set_access_token(access_token, access_token_secret)\n",
    "api = tweepy.API(auth,wait_on_rate_limit=True)"
   ]
  },
  {
   "cell_type": "markdown",
   "metadata": {},
   "source": [
    "snscrape → snscrape is a scraper for social networking services (SNS). We need to install this."
   ]
  },
  {
   "cell_type": "code",
   "execution_count": 4,
   "metadata": {},
   "outputs": [],
   "source": [
    "pip install snscrape"
   ]
  },
  {
   "cell_type": "code",
   "execution_count": 5,
   "metadata": {
    "tags": []
   },
   "outputs": [],
   "source": [
    "import snscrape.modules.twitter as sntwitter\n",
    "from langdetect import detect\n",
    "#DetectFactory.seed=0"
   ]
  },
  {
   "cell_type": "code",
   "execution_count": 6,
   "metadata": {},
   "outputs": [],
   "source": [
    "csvFile = open('mid-pandemic-final1.csv', 'a')\n",
    "csvWriter = csv.writer(csvFile)"
   ]
  },
  {
   "cell_type": "code",
   "execution_count": 7,
   "metadata": {},
   "outputs": [
    {
     "name": "stdout",
     "output_type": "stream",
     "text": [
      "2020-03-10 23:59:38+00:00\n",
      "2020-03-10 23:59:35+00:00\n",
      "2020-03-10 23:59:26+00:00\n",
      "2020-03-10 23:59:13+00:00\n",
      "2020-03-10 23:59:06+00:00\n",
      "2020-03-10 23:58:35+00:00\n",
      "2020-03-10 23:58:17+00:00\n",
      "2020-03-10 23:57:31+00:00\n",
      "2020-03-10 23:57:23+00:00\n",
      "2020-03-10 23:57:14+00:00\n",
      "2020-03-10 23:57:12+00:00\n",
      "2020-03-10 23:57:10+00:00\n"
     ]
    }
   ],
   "source": [
    "maxTweets = 350000 \n",
    "#englishTweets = 1\n",
    "for i,tweet in enumerate(sntwitter.TwitterSearchScraper('\"depressed\" OR \"anxious\" OR \"mental health\" OR \"therapy\" OR \"well-being\" OR \"stressed out\" OR \"self care\" OR \"self love\" OR \"#depressed\" OR \"#anxious\" OR \"#mentalhealth\" OR \"#therapy\" OR \"#wellbeing\" OR \"#stressedout\" OR \"#selfcare\" OR \"#selflove\"' + 'since:2020-03-11 until:2021-01-14').get_items()) :\n",
    "    #if detect(tweet.content) == 'en'':\n",
    "        #englishTweets = englishTweets+1\n",
    "    print(tweet.date)\n",
    "    csvWriter.writerow([tweet.date, tweet.content.encode('utf-8')])\n",
    "    if i > maxTweets :\n",
    "        break"
   ]
  }
 ],
 "metadata": {
  "kernelspec": {
   "display_name": "Python 3 (ipykernel)",
   "language": "python",
   "name": "python3"
  },
  "language_info": {
   "codemirror_mode": {
    "name": "ipython",
    "version": 3
   },
   "file_extension": ".py",
   "mimetype": "text/x-python",
   "name": "python",
   "nbconvert_exporter": "python",
   "pygments_lexer": "ipython3",
   "version": "3.8.10"
  }
 },
 "nbformat": 4,
 "nbformat_minor": 4
}
